{
  "nbformat": 4,
  "nbformat_minor": 0,
  "metadata": {
    "colab": {
      "provenance": [],
      "include_colab_link": true
    },
    "kernelspec": {
      "name": "python3",
      "display_name": "Python 3"
    },
    "language_info": {
      "name": "python"
    }
  },
  "cells": [
    {
      "cell_type": "markdown",
      "metadata": {
        "id": "view-in-github",
        "colab_type": "text"
      },
      "source": [
        "<a href=\"https://colab.research.google.com/github/suryatorati/DeepfakeDetection_GANS/blob/main/Copy_of_Untitled5.ipynb\" target=\"_parent\"><img src=\"https://colab.research.google.com/assets/colab-badge.svg\" alt=\"Open In Colab\"/></a>"
      ]
    },
    {
      "cell_type": "code",
      "execution_count": null,
      "metadata": {
        "id": "e7VrmoUuSL_H",
        "colab": {
          "base_uri": "https://localhost:8080/"
        },
        "outputId": "bee3a38b-47e7-4a53-bc67-e9f95d86184b"
      },
      "outputs": [
        {
          "output_type": "stream",
          "name": "stdout",
          "text": [
            "/\n",
            "Mounted at /content/gdrive\n"
          ]
        }
      ],
      "source": [
        "%cd ..\n",
        "from google.colab import drive\n",
        "drive.mount('/content/gdrive')"
      ]
    },
    {
      "cell_type": "code",
      "source": [
        "import tensorflow as tf\n",
        "from tensorflow import keras\n",
        "from tensorflow.keras import layers\n",
        "import numpy as np\n",
        "import os"
      ],
      "metadata": {
        "id": "N_RVK4cIMN_v"
      },
      "execution_count": null,
      "outputs": []
    },
    {
      "cell_type": "code",
      "source": [],
      "metadata": {
        "id": "kUkrf8QsMcrB"
      },
      "execution_count": null,
      "outputs": []
    },
    {
      "cell_type": "code",
      "source": [
        "image_dir_real = '/content/gdrive/MyDrive/training_real'\n",
        "image_dir_fake = '/content/gdrive/MyDrive/training_fake'"
      ],
      "metadata": {
        "id": "nXLscr49Mhw_"
      },
      "execution_count": null,
      "outputs": []
    },
    {
      "cell_type": "code",
      "source": [
        "\n",
        "\n",
        "def preprocess_image(image):\n",
        "    image = tf.image.resize(image, (128, 128))\n",
        "    image = image / 255.0\n",
        "    return image\n",
        "\n",
        "def load_image(image_path):\n",
        "    image = tf.io.read_file(image_path)\n",
        "    image = tf.image.decode_image(image, channels=3)\n",
        "    image = preprocess_image(image)\n",
        "    return image\n",
        "\n",
        "\n",
        "real_image_paths = [os.path.join(image_dir_real, filename) for filename in os.listdir(image_dir_real) if filename.lower().endswith(('.jpg', '.jpeg', '.png'))]\n",
        "fake_image_paths = [os.path.join(image_dir_fake, filename) for filename in os.listdir(image_dir_fake) if filename.lower().endswith(('.jpg', '.jpeg', '.png'))]\n",
        "\n",
        "\n",
        "real_images = [load_image(path) for path in real_image_paths]\n",
        "\n",
        "\n",
        "fake_images = [load_image(path) for path in fake_image_paths]"
      ],
      "metadata": {
        "id": "ykBsqR9aMUsW"
      },
      "execution_count": null,
      "outputs": []
    },
    {
      "cell_type": "code",
      "source": [],
      "metadata": {
        "id": "YjsWApTyMncw"
      },
      "execution_count": null,
      "outputs": []
    },
    {
      "cell_type": "code",
      "source": [
        "def create_discriminator_model(input_shape=(128, 128, 3)):\n",
        "    model = keras.Sequential([\n",
        "        layers.Conv2D(64, (3, 3), strides=(2, 2), padding=\"same\", input_shape=input_shape),\n",
        "        layers.LeakyReLU(alpha=0.2),\n",
        "\n",
        "        layers.Conv2D(128, (3, 3), strides=(2, 2), padding=\"same\"),\n",
        "        layers.BatchNormalization(),\n",
        "        layers.LeakyReLU(alpha=0.2),\n",
        "\n",
        "        layers.Flatten(),\n",
        "        layers.Dense(1, activation=\"sigmoid\")\n",
        "    ])\n",
        "    return model\n",
        "\n",
        "discriminator = create_discriminator_model()\n",
        "discriminator.compile(loss=\"binary_crossentropy\", optimizer=keras.optimizers.Adam(0.0002, 0.5), metrics=[\"accuracy\"])\n"
      ],
      "metadata": {
        "id": "pOm81jiDMjIT"
      },
      "execution_count": null,
      "outputs": []
    },
    {
      "cell_type": "code",
      "source": [],
      "metadata": {
        "id": "4xcEkQ0EMo6J"
      },
      "execution_count": null,
      "outputs": []
    },
    {
      "cell_type": "code",
      "source": [
        "X_real = np.array(real_images)\n",
        "X_fake = np.array(fake_images)\n",
        "\n",
        "y_real = np.ones((X_real.shape[0], 1))\n",
        "y_fake = np.zeros((X_fake.shape[0], 1))\n",
        "\n",
        "X_train = np.concatenate((X_real, X_fake), axis=0)\n",
        "y_train = np.concatenate((y_real, y_fake), axis=0)\n",
        "\n",
        "discriminator.fit(X_train, y_train, epochs=10, batch_size=16)"
      ],
      "metadata": {
        "id": "LDb0egfnMqNU",
        "colab": {
          "base_uri": "https://localhost:8080/"
        },
        "outputId": "702b8476-653a-478f-8776-6472723b3492"
      },
      "execution_count": null,
      "outputs": [
        {
          "output_type": "stream",
          "name": "stdout",
          "text": [
            "Epoch 1/10\n",
            "127/127 [==============================] - 29s 223ms/step - loss: 0.8332 - accuracy: 0.5634\n",
            "Epoch 2/10\n",
            "127/127 [==============================] - 28s 222ms/step - loss: 0.4975 - accuracy: 0.7641\n",
            "Epoch 3/10\n",
            "127/127 [==============================] - 30s 235ms/step - loss: 0.3275 - accuracy: 0.8831\n",
            "Epoch 4/10\n",
            "127/127 [==============================] - 32s 253ms/step - loss: 0.2094 - accuracy: 0.9529\n",
            "Epoch 5/10\n",
            "127/127 [==============================] - 27s 215ms/step - loss: 0.1253 - accuracy: 0.9822\n",
            "Epoch 6/10\n",
            "127/127 [==============================] - 30s 236ms/step - loss: 0.0689 - accuracy: 0.9980\n",
            "Epoch 7/10\n",
            "127/127 [==============================] - 29s 227ms/step - loss: 0.0470 - accuracy: 0.9990\n",
            "Epoch 8/10\n",
            "127/127 [==============================] - 28s 216ms/step - loss: 0.0290 - accuracy: 1.0000\n",
            "Epoch 9/10\n",
            "127/127 [==============================] - 30s 235ms/step - loss: 0.0201 - accuracy: 1.0000\n",
            "Epoch 10/10\n",
            "127/127 [==============================] - 35s 279ms/step - loss: 0.0150 - accuracy: 1.0000\n"
          ]
        },
        {
          "output_type": "execute_result",
          "data": {
            "text/plain": [
              "<keras.src.callbacks.History at 0x7c9fcb6ef6a0>"
            ]
          },
          "metadata": {},
          "execution_count": 6
        }
      ]
    },
    {
      "cell_type": "code",
      "source": [],
      "metadata": {
        "id": "dxAuS8j0MuMI"
      },
      "execution_count": null,
      "outputs": []
    },
    {
      "cell_type": "code",
      "source": [
        "def detect_deepfake_image(image, threshold=0.5):\n",
        "    image = np.expand_dims(image, axis=0)\n",
        "    prediction = discriminator.predict(image)\n",
        "\n",
        "    if prediction > threshold:\n",
        "        return \"This image is likely a real.\"\n",
        "    else:\n",
        "        return \"This image appears to be deepfake.\"\n",
        "\n",
        "# realImage='/content/gdrive/MyDrive/training_real/real_00142.jpg'\n",
        "# fakeImage='/content/gdrive/MyDrive/training_fake/easy_187_1110.jpg'\n",
        "\n",
        "image_to_check = load_image('/content/gdrive/MyDrive/training_fake/mid_236_1111.jpg')\n",
        "result = detect_deepfake_image(image_to_check)\n",
        "print(result)"
      ],
      "metadata": {
        "id": "dY1lDIRYMuXl",
        "colab": {
          "base_uri": "https://localhost:8080/"
        },
        "outputId": "8a165df2-5126-4af8-e7fe-f88241aef09b"
      },
      "execution_count": null,
      "outputs": [
        {
          "output_type": "stream",
          "name": "stdout",
          "text": [
            "1/1 [==============================] - 0s 48ms/step\n",
            "This image appears to be deepfake.\n"
          ]
        }
      ]
    },
    {
      "cell_type": "code",
      "source": [],
      "metadata": {
        "id": "_3-R-N9UMwd8"
      },
      "execution_count": null,
      "outputs": []
    }
  ]
}
